{
 "cells": [
  {
   "cell_type": "markdown",
   "metadata": {},
   "source": [
    "### Create a table showing missing data as a % of total data\n",
    "\n",
    "missing = df.isna().sum()\n",
    "\n",
    "missing_percent = round((missing / len(df))*100,3)\n",
    "\n",
    "print(pd.concat([missing, missing_percent], axis = 1).rename(columns={0: 'Missing Count', 1: 'Missing %'}))"
   ]
  },
  {
   "cell_type": "markdown",
   "metadata": {},
   "source": [
    "### Drop columns with less than 10% data\n",
    "\n",
    "threshold = 0.1 * len(df)\n",
    "\n",
    "df_drop_col = df.dropna(axis = 1, thresh = threshold)\n",
    "\n",
    "print(threshold)\n",
    "\n",
    "print(df_drop_col.shape)"
   ]
  },
  {
   "cell_type": "markdown",
   "metadata": {},
   "source": [
    "### Compare columns between 2 tables\n",
    "\n",
    "diff_cols = df.columns.difference(df_2.columns)\n",
    "\n",
    "print(diff_cols)"
   ]
  },
  {
   "cell_type": "markdown",
   "metadata": {
    "vscode": {
     "languageId": "plaintext"
    }
   },
   "source": [
    "### String methods .str.\n",
    "\n",
    "Placing sections of text inside r'...', e.g. r'[^0-9.] tells python to treat every character inside the square brackets literally (a \"raw\" string\").\n",
    "Sometimes you need to include slashes, and python will interpret those as linebreaks rather than slashes. That's what the r'...' is for.\n",
    "\n",
    "Placing a ^ inside the square brackets e.g. [^0-9.] tells python \"NOT these\".\n",
    "\n",
    "#### Case conversion\n",
    ".lower(), .upper(), .title(), .capitalize()\n",
    "\n",
    "#### Whitespace removal\n",
    ".strip(), .lstrip(), .rstrip()\n",
    "\n",
    "#### Finding and replacing\n",
    "\n",
    ".contains()\n",
    "\n",
    ".replace(old, new)\n",
    "\n",
    "#### Splitting, joining, slicing and length\n",
    "\n",
    ".split(sep) - splits a string into a list of substrings based on a separator\n",
    "\n",
    ".join(sep) - joins elements in a series or list with a specified separator\n",
    "\n",
    ".slice(start, stop, step) - extracts a substring\n",
    "\n",
    ".len()\n",
    "\n",
    "#### Data type conversion\n",
    "\n",
    ".astype(str)"
   ]
  },
  {
   "cell_type": "markdown",
   "metadata": {},
   "source": [
    "### Converting multiple columns' data type\n",
    "\n",
    "NB. Special characters like $ signs have to be removed before converting to numbers (int64, Int64 or float)\n",
    "\n",
    "NB. Columns with NaN can be converted to Int64 or float but not int64\n",
    "\n",
    "#### First create a dictionary of column titles to data types:\n",
    "\n",
    "dtype_dictionary_string = \"column_types = {\\n\"\n",
    "\n",
    "for col in data_drop_duplicates.columns:\n",
    "    dtype_dictionary_string += f\"   '{col}': '',\\n\"\n",
    "\n",
    "dtype_dictionary_string += \"}\"\n",
    "\n",
    "print(dtype_dictionary_string)\n",
    "\n",
    "* Manually enter datatypes as value entries.\n",
    "\n",
    "#### Then convert\n",
    "\n",
    "for col, dtype in column_types.items():\n",
    "    try:\n",
    "        df[col] = data_drop_duplicates[col].astype(dtype)\n",
    "    except Exception as e:\n",
    "        print(f\"Failed to convert {col} to {dtype}: {e}\")"
   ]
  },
  {
   "cell_type": "markdown",
   "metadata": {},
   "source": [
    "### Converting data type, manipulating, then converting back\n",
    "\n",
    "df_2[\"host_identity_verified_filled\"] = df_1[\"host_identity_verified\"].astype('string').fillna(\"unknown\").str.title().astype('category')"
   ]
  }
 ],
 "metadata": {
  "kernelspec": {
   "display_name": "data_cleansing_practice",
   "language": "python",
   "name": "python3"
  },
  "language_info": {
   "name": "python",
   "version": "3.12.3"
  }
 },
 "nbformat": 4,
 "nbformat_minor": 2
}
