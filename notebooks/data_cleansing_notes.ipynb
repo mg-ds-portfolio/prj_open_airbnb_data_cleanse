{
 "cells": [
  {
   "cell_type": "markdown",
   "metadata": {},
   "source": [
    "### Create a table showing missing data as a % of total data\n",
    "\n",
    "missing = df.isna().sum()\n",
    "\n",
    "missing_percent = round((missing / len(df))*100,3)\n",
    "\n",
    "print(pd.concat([missing, missing_percent], axis = 1).rename(columns={0: 'Missing Count', 1: 'Missing %'}))"
   ]
  },
  {
   "cell_type": "markdown",
   "metadata": {},
   "source": [
    "### Drop columns with less than 10% data\n",
    "\n",
    "threshold = 0.1 * len(df)\n",
    "\n",
    "df_drop_col = df.dropna(axis = 1, thresh = threshold)\n",
    "\n",
    "print(threshold)\n",
    "\n",
    "print(df_drop_col.shape)"
   ]
  },
  {
   "cell_type": "markdown",
   "metadata": {},
   "source": [
    "### Compare columns between 2 tables\n",
    "\n",
    "diff_cols = df.columns.difference(df_2.columns)\n",
    "\n",
    "print(diff_cols)"
   ]
  },
  {
   "cell_type": "markdown",
   "metadata": {
    "vscode": {
     "languageId": "plaintext"
    }
   },
   "source": [
    "### String methods .str.\n",
    "\n",
    "Placing sections of text inside r'...', e.g. r'[^0-9.] tells python to treat every character inside the square brackets literally (a \"raw\" string\").\n",
    "Sometimes you need to include slashes, and python will interpret those as linebreaks rather than slashes. That's what the r'...' is for.\n",
    "\n",
    "Placing a ^ inside the square brackets e.g. [^0-9.] tells python \"NOT these\".\n",
    "\n",
    "#### Case conversion\n",
    ".lower(), .upper(), .title(), .capitalize()\n",
    "\n",
    "#### Whitespace removal\n",
    ".strip(), .lstrip(), .rstrip()\n",
    "\n",
    "#### Finding and replacing\n",
    "\n",
    ".contains()\n",
    "\n",
    ".replace(old, new)\n",
    "\n",
    "#### Splitting, joining, slicing and length\n",
    "\n",
    ".split(sep) - splits a string into a list of substrings based on a separator\n",
    "\n",
    ".join(sep) - joins elements in a series or list with a specified separator\n",
    "\n",
    ".slice(start, stop, step) - extracts a substring\n",
    "\n",
    ".len()\n",
    "\n",
    "#### Data type conversion\n",
    "\n",
    ".astype(str)"
   ]
  },
  {
   "cell_type": "markdown",
   "metadata": {},
   "source": [
    "### Converting multiple columns' data type\n",
    "\n",
    "NB. Special characters like $ signs have to be removed before converting to numbers (int64, Int64 or float)\n",
    "\n",
    "NB. Columns with NaN can be converted to Int64 or float but not int64\n",
    "\n",
    "#### First create a dictionary of column titles to data types:\n",
    "\n",
    "dtype_dictionary_string = \"column_types = {\\n\"\n",
    "\n",
    "for col in data_drop_duplicates.columns:\n",
    "    dtype_dictionary_string += f\"   '{col}': '',\\n\"\n",
    "\n",
    "dtype_dictionary_string += \"}\"\n",
    "\n",
    "print(dtype_dictionary_string)\n",
    "\n",
    "* Manually enter datatypes as value entries.\n",
    "\n",
    "#### Then convert\n",
    "\n",
    "for col, dtype in column_types.items():\n",
    "    try:\n",
    "        df[col] = data_drop_duplicates[col].astype(dtype)\n",
    "    except Exception as e:\n",
    "        print(f\"Failed to convert {col} to {dtype}: {e}\")"
   ]
  },
  {
   "cell_type": "markdown",
   "metadata": {},
   "source": [
    "### Converting data type, manipulating, then converting back\n",
    "\n",
    "df_2[\"host_identity_verified_filled\"] = df_1[\"host_identity_verified\"].astype('string').fillna(\"unknown\").str.title().astype('category')"
   ]
  },
  {
   "cell_type": "markdown",
   "metadata": {},
   "source": [
    "Import packages\n",
    "cleanse - generic\n",
    "cleanse specific\n",
    "explore\n",
    "\n",
    "functions to build\n",
    "\n",
    "--- Assessment ---\n",
    "\n",
    "df.isna().sum()             - Method. Returns a boolean array the same size as df.\n",
    "                            - sum() has default parameter axis = 0 which means it sums down the columns.\n",
    "\n",
    "df.duplicated().sum()       - Method. Returns a boolean series showing whether the row is a duplicate.\n",
    "                            - 'keep' parameter determines which to keep - first (default), last, false.\n",
    "                            - sum() returns number of duplicates per column (if axis = 0) not including those to keep.\n",
    "\n",
    "df.dtypes                   - Property. This returns a Series with the data type of each column.\n",
    "                            \n",
    "df.nunique()                - Method. Returns series showing number of unique entries in each column (axis = 0) or row (axis = 1)\n",
    "\n",
    "\n",
    "--- Action ---\n",
    "\n",
    "df.dropna()                 - Method. Removes rows/columns with any/all NAs.\n",
    "                            - axis = 0 for rows, axis = 1 for columns.\n",
    "                            - how = any for rows/columns with any NAs, how = all for rows/columns with all NAs.\n",
    "                            - thresh = integer number of NAs required before row/column is dropped.\n",
    "\n",
    "df.drop_duplicates()        - Method. Returns DataFrame with duplicate rows removed.\n",
    "                            - If you pass a column it will return the unique values in the column.\n",
    "                            - 'keep' parameter determines which to keep - first (default), last, false.\n",
    "\n",
    "df[col].astype(dtype)       - Method. Converts series [col] into stated dtype.\n",
    "\n",
    "df[col].str.\n",
    "            replace()       - Method. Replaces each occurrence of the input pattern/regex.\n",
    "                            - r'...' tells Python the input is a raw string so it doesn't confuse slashes or periods etc.\n",
    "                            - regex = True tells Python that the input characters are part of a broader search pattern as opposed to a literal string.\n",
    "                            - ^ means NOT\n",
    "\n",
    "            lower()         - Method. Converts strings in the series to lower case (or upper(), or sentence())"
   ]
  }
 ],
 "metadata": {
  "kernelspec": {
   "display_name": "data_cleansing_practice",
   "language": "python",
   "name": "python3"
  },
  "language_info": {
   "name": "python",
   "version": "3.12.3"
  }
 },
 "nbformat": 4,
 "nbformat_minor": 2
}
